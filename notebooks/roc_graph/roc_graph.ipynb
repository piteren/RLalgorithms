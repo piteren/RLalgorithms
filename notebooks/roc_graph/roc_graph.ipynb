{
 "cells": [
  {
   "cell_type": "markdown",
   "metadata": {
    "colab_type": "text",
    "id": "fzzAb8rIjCP5"
   },
   "source": [
    "# Optimizing Models Using ROC Graphs\n",
    "This notebook presents a simple use-case of how a classification model can be optimized using a ROC graph. We'll be using the `roc_graph` method of `dython` [(link)](http://shakedzy.xyz/dython).\n",
    "\n",
    "Note that due to the nature of `np.random.RandomState` which is used in this notebook, the output graphs may vary from one machine to another."
   ]
  },
  {
   "cell_type": "code",
   "execution_count": 1,
   "metadata": {
    "colab": {
     "base_uri": "https://localhost:8080/",
     "height": 272
    },
    "colab_type": "code",
    "id": "2CSqmLFPNhFX",
    "outputId": "7214f39b-ceef-426b-efd7-bd93a295eb66"
   },
   "outputs": [],
   "source": [
    "import random\n",
    "import numpy as np\n",
    "from sklearn import svm, datasets\n",
    "from sklearn.ensemble import RandomForestClassifier\n",
    "from sklearn.model_selection import train_test_split\n",
    "from sklearn.preprocessing import label_binarize, normalize\n",
    "from sklearn.multiclass import OneVsRestClassifier\n",
    "from dython.model_utils import roc_graph"
   ]
  },
  {
   "cell_type": "markdown",
   "metadata": {
    "colab_type": "text",
    "id": "86sJTLVAkYa1"
   },
   "source": [
    "## Binary Classification\n",
    "We'll begin with a simple binary classification, where the label is either 0 or 1, or in other words, does a sample belong to the class or not. For this we'll use the Breast Cancer Dataset, which can be imported from `sklearn`. The target values here will be 0 = _malignant_ and 1 = _benign_."
   ]
  },
  {
   "cell_type": "code",
   "execution_count": 2,
   "metadata": {
    "colab": {
     "base_uri": "https://localhost:8080/",
     "height": 34
    },
    "colab_type": "code",
    "id": "yVXX4F5QmJED",
    "outputId": "8cb185d4-fc5f-444d-dbb8-2f38238827bb"
   },
   "outputs": [
    {
     "name": "stdout",
     "output_type": "stream",
     "text": [
      "Number of samples: 569\n"
     ]
    }
   ],
   "source": [
    "breast_cancer = datasets.load_breast_cancer()\n",
    "X = breast_cancer.data\n",
    "y = breast_cancer.target\n",
    "print('Number of samples: {}'.format(y.size))"
   ]
  },
  {
   "cell_type": "markdown",
   "metadata": {
    "colab_type": "text",
    "id": "LqAI9bJGmbNU"
   },
   "source": [
    "We'll split the data half and half between training and data, and train a very weak Random Forest, which has only 5 trees with a maximum depth of 4. We're making it weak for the sake of the example - in real life, you'll probably want a wider and deeper forest."
   ]
  },
  {
   "cell_type": "code",
   "execution_count": 3,
   "metadata": {
    "colab": {},
    "colab_type": "code",
    "id": "D2a_pVQ6moev"
   },
   "outputs": [],
   "source": [
    "X_train, X_test, y_train, y_test = train_test_split(X, y, test_size=.5, random_state=0)\n",
    "classifier = RandomForestClassifier(n_estimators=5, max_depth=4, random_state=0)\n",
    "y_pred = classifier.fit(X_train, y_train).predict_proba(X_test)[:,1]"
   ]
  },
  {
   "cell_type": "markdown",
   "metadata": {
    "colab_type": "text",
    "id": "ooeu_q7nnHcC"
   },
   "source": [
    "Let's see how good are the model's predictions:"
   ]
  },
  {
   "cell_type": "code",
   "execution_count": 4,
   "metadata": {
    "colab": {
     "base_uri": "https://localhost:8080/",
     "height": 34
    },
    "colab_type": "code",
    "id": "T7PwobCEoTnn",
    "outputId": "12282c41-1bd5-4611-a08d-34bf070feb51"
   },
   "outputs": [
    {
     "name": "stdout",
     "output_type": "stream",
     "text": [
      "Correct predictions: 266/285 (93.33%)\n"
     ]
    }
   ],
   "source": [
    "y_p = np.vectorize(round)(y_pred)\n",
    "s = 0\n",
    "for i in range(y_test.size):\n",
    "    if y_test[i] == y_p[i]:\n",
    "        s += 1\n",
    "print('Correct predictions: {0}/{1} ({2:.2f}%)'.format(s, y_test.size, 100*s/y_test.size))"
   ]
  },
  {
   "cell_type": "markdown",
   "metadata": {
    "colab_type": "text",
    "id": "8YzRCoIbo3oa"
   },
   "source": [
    "It's doing quite good, with 93.3% accuracy. Let's plot it's ROC graph and see if we can improve it a little more:"
   ]
  },
  {
   "cell_type": "code",
   "execution_count": 5,
   "metadata": {
    "colab": {
     "base_uri": "https://localhost:8080/",
     "height": 458
    },
    "colab_type": "code",
    "id": "5zikFT6FNjur",
    "outputId": "73ba4072-2f92-47b0-ef82-62fae46efa57"
   },
   "outputs": [
    {
     "data": {
      "image/png": "[encoded data removed]",
      "text/plain": [
       "<Figure size 504x504 with 1 Axes>"
      ]
     },
     "metadata": {
      "needs_background": "light"
     },
     "output_type": "display_data"
    }
   ],
   "source": [
    "roc_graph(y_test, y_pred, class_names=breast_cancer.target_names, figsize=(7,7))"
   ]
  },
  {
   "cell_type": "markdown",
   "metadata": {
    "colab_type": "text",
    "id": "mXOiDEnPpfR3"
   },
   "source": [
    "Not surprisingly, the AUC score of this model is very high. But is there anything we can do to make its predictions more accurate?\n",
    "\n",
    "Well, yes - we can adjust the class prediction threshold. Remeber that the default is to assign a sample to the _benign_ class if its model's prediction confidence (or predicted probability) is 0.5 or more. But as we can see from the ROC graph plot, the estimated optimal threshold (`eOpT`) is 0.71. This means we should assign the _benign_ class to a sample only if the model's predicted probability is higher than that.\n",
    "\n",
    "Let's reconfigure the model's threshold and see its performace now:"
   ]
  },
  {
   "cell_type": "code",
   "execution_count": 6,
   "metadata": {
    "colab": {
     "base_uri": "https://localhost:8080/",
     "height": 34
    },
    "colab_type": "code",
    "id": "u5cYM5fQcvf-",
    "outputId": "dbe2e50e-1a58-43c9-e0ac-4f4259417153"
   },
   "outputs": [
    {
     "name": "stdout",
     "output_type": "stream",
     "text": [
      "Correct predictions: 269/285 (94.39%)\n"
     ]
    }
   ],
   "source": [
    "y_p = np.vectorize(lambda x: 1 if x >= .71 else 0)(y_pred)\n",
    "s = 0\n",
    "for i in range(y_test.size):\n",
    "    if y_test[i] == y_p[i]:\n",
    "        s += 1\n",
    "print('Correct predictions: {0}/{1} ({2:.2f}%)'.format(s, y_test.size, 100.0*s/y_test.size))"
   ]
  },
  {
   "cell_type": "markdown",
   "metadata": {
    "colab_type": "text",
    "id": "xxODvciJIB92"
   },
   "source": [
    "Not bad! We improved the accuracy of the model by another 1% just by selecting a different prediction threshold!"
   ]
  },
  {
   "cell_type": "markdown",
   "metadata": {},
   "source": [
    "## ROC Curves of a Perfect Classifier\n",
    "Let's examine the case of a perfect binary classifier, but which is skewed. In this example, all Positive samples will have a predicted probability of 0.8 or more, and all Negative samples will have a predicted probability of less than 0.8.\n",
    "\n",
    "Let's begin with creating some synthetic data:"
   ]
  },
  {
   "cell_type": "code",
   "execution_count": 7,
   "metadata": {},
   "outputs": [],
   "source": [
    "random.seed(0)\n",
    "y_test = np.vectorize(lambda _: random.randint(0,1))(np.zeros(100))\n",
    "y_pred = np.vectorize(lambda x: random.uniform(0.,.799) if x == 0 else random.uniform(.8,1.))(y_test)"
   ]
  },
  {
   "cell_type": "markdown",
   "metadata": {},
   "source": [
    "Let's plot the model's ROC graph:"
   ]
  },
  {
   "cell_type": "code",
   "execution_count": 8,
   "metadata": {},
   "outputs": [
    {
     "data": {
      "image/png": "[encoded data removed]",
      "text/plain": [
       "<Figure size 504x504 with 1 Axes>"
      ]
     },
     "metadata": {
      "needs_background": "light"
     },
     "output_type": "display_data"
    }
   ],
   "source": [
    "roc_graph(y_test, y_pred, xlim=(-.01,1), figsize=(7,7))"
   ]
  },
  {
   "cell_type": "markdown",
   "metadata": {},
   "source": [
    "As expected, we see $AUC = 1$, and the estimated-optimal threshold is indeed what we set.\n",
    "\n",
    "Let's first check how well does the default 0.5 threshold performs:"
   ]
  },
  {
   "cell_type": "code",
   "execution_count": 9,
   "metadata": {},
   "outputs": [
    {
     "name": "stdout",
     "output_type": "stream",
     "text": [
      "Correct predictions: 83/100 (83.00%)\n"
     ]
    }
   ],
   "source": [
    "y_p = np.vectorize(round)(y_pred)\n",
    "s = 0\n",
    "for i in range(y_test.size):\n",
    "    if y_test[i] == y_p[i]:\n",
    "        s += 1\n",
    "print('Correct predictions: {0}/{1} ({2:.2f}%)'.format(s, y_test.size, 100*s/y_test.size))"
   ]
  },
  {
   "cell_type": "markdown",
   "metadata": {},
   "source": [
    "While we know this is a perfect classifier, we only see 83% accuracy, due to the mere fact that our default threshold doesn't take into account the skewness of the model. \n",
    "\n",
    "Now let's try this again with the new threshold:"
   ]
  },
  {
   "cell_type": "code",
   "execution_count": 10,
   "metadata": {},
   "outputs": [
    {
     "name": "stdout",
     "output_type": "stream",
     "text": [
      "Correct predictions: 100/100 (100.00%)\n"
     ]
    }
   ],
   "source": [
    "y_p = np.vectorize(lambda x: 1 if x >= .8 else 0)(y_pred)\n",
    "s = 0\n",
    "for i in range(y_test.size):\n",
    "    if y_test[i] == y_p[i]:\n",
    "        s += 1\n",
    "print('Correct predictions: {0}/{1} ({2:.2f}%)'.format(s, y_test.size, 100.0*s/y_test.size))"
   ]
  },
  {
   "cell_type": "markdown",
   "metadata": {
    "colab_type": "text",
    "id": "GsICQSv4IaXj"
   },
   "source": [
    "## Multi-Class Classification\n",
    "Let's continue with a more complex case, where more than one class exists. We'll use the Iris Dataset for this, where three types of irises are found in the dataset. We'll follow a similar example found in [SciKit-Learn's documentation](http://scikit-learn.org/stable/auto_examples/model_selection/plot_roc.html)."
   ]
  },
  {
   "cell_type": "code",
   "execution_count": 11,
   "metadata": {
    "colab": {
     "base_uri": "https://localhost:8080/",
     "height": 34
    },
    "colab_type": "code",
    "id": "6hNUjPjOJI0l",
    "outputId": "2518911d-a642-4ba2-99ed-503ca876fa67"
   },
   "outputs": [
    {
     "name": "stdout",
     "output_type": "stream",
     "text": [
      "Number of samples: 150\n"
     ]
    }
   ],
   "source": [
    "iris = datasets.load_iris()\n",
    "X = iris.data\n",
    "y = label_binarize(iris.target, classes=[0, 1, 2])\n",
    "print('Number of samples: {}'.format(X.shape[0]))"
   ]
  },
  {
   "cell_type": "markdown",
   "metadata": {
    "colab_type": "text",
    "id": "uvrXWvOwbty4"
   },
   "source": [
    "We'll add some noisy features, to make this more challenging: "
   ]
  },
  {
   "cell_type": "code",
   "execution_count": 12,
   "metadata": {
    "colab": {
     "base_uri": "https://localhost:8080/",
     "height": 34
    },
    "colab_type": "code",
    "id": "cX42b_1rb4EG",
    "outputId": "386161a2-3c6b-4032-b024-0872aa184c87"
   },
   "outputs": [
    {
     "name": "stdout",
     "output_type": "stream",
     "text": [
      "Original number of features: 4, New number of features: 804\n"
     ]
    }
   ],
   "source": [
    "random_state = np.random.RandomState(4)\n",
    "n_samples, n_features = X.shape\n",
    "X = np.c_[X, random_state.randn(n_samples, 200 * n_features)]\n",
    "print('Original number of features: {}, New number of features: {}'.format(n_features, X.shape[1]))"
   ]
  },
  {
   "cell_type": "markdown",
   "metadata": {
    "colab_type": "text",
    "id": "t9LTf01CcZBy"
   },
   "source": [
    "Again, we'll split the data half and half amnong train-set and test-set. This time we'll use a SVM classifier:"
   ]
  },
  {
   "cell_type": "code",
   "execution_count": 13,
   "metadata": {
    "colab": {
     "base_uri": "https://localhost:8080/",
     "height": 458
    },
    "colab_type": "code",
    "id": "gaz0ms7zQqIo",
    "outputId": "b7606326-cfc2-4916-ba0d-f8f33b0babc2"
   },
   "outputs": [],
   "source": [
    "X_train, X_test, y_train, y_test = train_test_split(X, y, test_size=.5, random_state=0)\n",
    "classifier = OneVsRestClassifier(svm.SVC(kernel='linear', probability=True, random_state=0))\n",
    "y_pred = classifier.fit(X_train, y_train).predict_proba(X_test)\n",
    "y_pred = normalize(y_pred, norm='l1')"
   ]
  },
  {
   "cell_type": "markdown",
   "metadata": {},
   "source": [
    "Let's check the model's accuracy:"
   ]
  },
  {
   "cell_type": "code",
   "execution_count": 14,
   "metadata": {
    "colab": {
     "base_uri": "https://localhost:8080/",
     "height": 34
    },
    "colab_type": "code",
    "id": "_rbHqPpDg3aI",
    "outputId": "f05c08d0-d1ea-49c8-c116-55a5cd6ed59f"
   },
   "outputs": [
    {
     "name": "stdout",
     "output_type": "stream",
     "text": [
      "Correct predictions: 47/225 (20.89%)\n"
     ]
    }
   ],
   "source": [
    "s = 0\n",
    "for i in range(y_test.shape[0]):\n",
    "    if y_test[i,:].argmax() == y_pred[i,:].argmax():\n",
    "        s += 1\n",
    "print('Correct predictions: {0}/{1} ({2:.2f}%)'.format(s, y_test.size, 100.0*s/y_test.size))"
   ]
  },
  {
   "cell_type": "markdown",
   "metadata": {},
   "source": [
    "Let's plot its ROC graph:"
   ]
  },
  {
   "cell_type": "code",
   "execution_count": 15,
   "metadata": {},
   "outputs": [
    {
     "data": {
      "image/png": "[encoded data removed]",
      "text/plain": [
       "<Figure size 504x504 with 1 Axes>"
      ]
     },
     "metadata": {
      "needs_background": "light"
     },
     "output_type": "display_data"
    }
   ],
   "source": [
    "roc_graph(y_test, y_pred, class_names=iris.target_names, figsize=(7,7))"
   ]
  },
  {
   "cell_type": "markdown",
   "metadata": {},
   "source": [
    "Now things get a little more complicated, as each class has its own estimated-optimal threshold. Let's try to consider all of those together:"
   ]
  },
  {
   "cell_type": "code",
   "execution_count": 16,
   "metadata": {
    "colab": {
     "base_uri": "https://localhost:8080/",
     "height": 34
    },
    "colab_type": "code",
    "id": "J_cVIxbvg-bL",
    "outputId": "41f690b2-40ca-4b2f-a3f8-66a51e585e4a"
   },
   "outputs": [
    {
     "name": "stdout",
     "output_type": "stream",
     "text": [
      "Correct predictions: 52/225 (23.11%)\n"
     ]
    }
   ],
   "source": [
    "s = 0\n",
    "for i in range(y_test.shape[0]):\n",
    "    if y_pred[i,2] >= .53: cls = 2\n",
    "    elif y_pred[i,0] >= .46: cls = 0\n",
    "    elif y_pred[i,1] >= .27: cls = 1\n",
    "    else: cls = y_pred[i,:].argmax() # fallback\n",
    "    if y_test[i,:].argmax() == cls:\n",
    "        s += 1\n",
    "print('Correct predictions: {0}/{1} ({2:.2f}%)'.format(s, y_test.size, 100.0*s/y_test.size))"
   ]
  },
  {
   "cell_type": "markdown",
   "metadata": {
    "colab": {},
    "colab_type": "code",
    "id": "z8OGPU7fhxSd"
   },
   "source": [
    "Not bad, accuracy improved by about 2.2% just by adjusting the thresholds. Note that in cases such as this, the order of `if/elif/else` matters, as technically more than one class can have a probability higher than its threshold. You'll have to fiddle with this in order to find the best order for your model."
   ]
  },
  {
   "cell_type": "code",
   "execution_count": null,
   "metadata": {},
   "outputs": [],
   "source": []
  }
 ],
 "metadata": {
  "colab": {
   "name": "roc.ipynb",
   "provenance": []
  },
  "kernelspec": {
   "display_name": "Python 3",
   "language": "python",
   "name": "python3"
  },
  "language_info": {
   "codemirror_mode": {
    "name": "ipython",
    "version": 3
   },
   "file_extension": ".py",
   "mimetype": "text/x-python",
   "name": "python",
   "nbconvert_exporter": "python",
   "pygments_lexer": "ipython3",
   "version": "3.6.5"
  }
 },
 "nbformat": 4,
 "nbformat_minor": 1
}
